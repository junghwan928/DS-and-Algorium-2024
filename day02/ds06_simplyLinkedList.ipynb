{
 "cells": [
  {
   "cell_type": "code",
   "execution_count": 1,
   "metadata": {},
   "outputs": [],
   "source": [
    "# file: ds06_simpleLinkedList.ipynb\n",
    "# desc: 단순 연결 리스트 학습"
   ]
  },
  {
   "cell_type": "code",
   "execution_count": 16,
   "metadata": {},
   "outputs": [],
   "source": [
    "# 연결리스트 노드 클래스\n",
    "class Node():\n",
    "    # data, link 두개의 멤버변수 존재\n",
    "    # 생성자 추가\n",
    "    def __init__(self, name) -> None:\n",
    "        self.data = name\n",
    "        self.link = None\n",
    "        "
   ]
  },
  {
   "cell_type": "code",
   "execution_count": 17,
   "metadata": {},
   "outputs": [
    {
     "name": "stdout",
     "output_type": "stream",
     "text": [
      "다현 None\n"
     ]
    }
   ],
   "source": [
    "node1 = Node('다현')\n",
    "print(node1.data, end=' ')\n",
    "print(node1.link)"
   ]
  },
  {
   "cell_type": "code",
   "execution_count": 20,
   "metadata": {},
   "outputs": [
    {
     "name": "stdout",
     "output_type": "stream",
     "text": [
      "None\n"
     ]
    }
   ],
   "source": [
    "print(node1.link)"
   ]
  },
  {
   "cell_type": "code",
   "execution_count": 21,
   "metadata": {},
   "outputs": [
    {
     "name": "stdout",
     "output_type": "stream",
     "text": [
      "정연 None\n"
     ]
    }
   ],
   "source": [
    "node2 = Node('정연')\n",
    "node1.link = node2\n",
    "print(node2.data, end=' ')\n",
    "print(node2.link)"
   ]
  },
  {
   "cell_type": "code",
   "execution_count": 22,
   "metadata": {},
   "outputs": [],
   "source": [
    "## 5개 노드 연결리스트\n",
    "node1 = Node('다현')\n",
    "\n",
    "node2 = Node('정연')\n",
    "node1.link = node2 \n",
    "\n",
    "node3 = Node('쯔위')\n",
    "node2.link = node3\n",
    "\n",
    "node4 = Node('사나')\n",
    "node3.link = node4\n",
    "\n",
    "node5 = Node('지효')\n",
    "node4.link = node5"
   ]
  },
  {
   "cell_type": "code",
   "execution_count": 23,
   "metadata": {},
   "outputs": [
    {
     "name": "stdout",
     "output_type": "stream",
     "text": [
      "다현 -> 정연 -> 쯔위 -> 사나 -> 지효 : "
     ]
    }
   ],
   "source": [
    "print(node1.data, end=' -> ') # node 1\n",
    "print(node1.link.data, end=' -> ') # node 2\n",
    "print(node1.link.link.data, end=' -> ') # node 3\n",
    "print(node1.link.link.link.data, end=' -> ') # node 4\n",
    "print(node1.link.link.link.link.data, end=' : ') # node 5"
   ]
  },
  {
   "cell_type": "code",
   "execution_count": 25,
   "metadata": {},
   "outputs": [
    {
     "data": {
      "text/plain": [
       "['다현', '정연', '쯔위', '사나', '지효']"
      ]
     },
     "execution_count": 25,
     "metadata": {},
     "output_type": "execute_result"
    }
   ],
   "source": [
    "# 파이썬의 리스트가 위와 동일한 구조로 만들어져있음\n",
    "friends = []\n",
    "friends.append('다현')\n",
    "friends.append('정연')\n",
    "friends.append('쯔위')\n",
    "friends.append('사나')\n",
    "friends.append('지효')\n",
    "friends"
   ]
  },
  {
   "cell_type": "code",
   "execution_count": 26,
   "metadata": {},
   "outputs": [
    {
     "name": "stdout",
     "output_type": "stream",
     "text": [
      "다현 -> 정연 -> 쯔위 -> 사나 -> 지효 -> "
     ]
    }
   ],
   "source": [
    "## 연결리스트 출력방법\n",
    "current = node1\n",
    "print(current.data, end = ' -> ')\n",
    "while current.link != None:\n",
    "    current = current.link # 내 노드 다음 노드가 current가 됨\n",
    "    print(current.data, end=' -> ')"
   ]
  },
  {
   "cell_type": "code",
   "execution_count": 27,
   "metadata": {},
   "outputs": [],
   "source": [
    "## 새노드 삽입\n",
    "newNode = Node('재남')\n",
    "newNode.link = node2.link\n",
    "node2.link = newNode"
   ]
  },
  {
   "cell_type": "code",
   "execution_count": 28,
   "metadata": {},
   "outputs": [
    {
     "name": "stdout",
     "output_type": "stream",
     "text": [
      "다현 -> 정연 -> 재남 -> 쯔위 -> 사나 -> 지효 -> "
     ]
    }
   ],
   "source": [
    "current = node1\n",
    "print(current.data, end = ' -> ')\n",
    "while current.link != None:\n",
    "    current = current.link # 내 노드 다음 노드가 current가 됨\n",
    "    print(current.data, end=' -> ')"
   ]
  },
  {
   "cell_type": "code",
   "execution_count": 30,
   "metadata": {},
   "outputs": [],
   "source": [
    "## 기존노드 삭제(쯔위)\n",
    "newNode.link = node3.link"
   ]
  },
  {
   "cell_type": "code",
   "execution_count": 31,
   "metadata": {},
   "outputs": [
    {
     "name": "stdout",
     "output_type": "stream",
     "text": [
      "다현 -> 정연 -> 재남 -> 사나 -> 지효 -> "
     ]
    }
   ],
   "source": [
    "current = node1\n",
    "print(current.data, end = ' -> ')\n",
    "while current.link != None:\n",
    "    current = current.link # 내 노드 다음 노드가 current가 됨\n",
    "    print(current.data, end=' -> ')"
   ]
  },
  {
   "cell_type": "code",
   "execution_count": 32,
   "metadata": {},
   "outputs": [],
   "source": [
    "## 완벽한 삭제를 위해서 node3 을 없애줌\n",
    "del(node3)\n"
   ]
  },
  {
   "cell_type": "code",
   "execution_count": 33,
   "metadata": {},
   "outputs": [
    {
     "ename": "NameError",
     "evalue": "name 'node3' is not defined",
     "output_type": "error",
     "traceback": [
      "\u001b[0;31m---------------------------------------------------------------------------\u001b[0m",
      "\u001b[0;31mNameError\u001b[0m                                 Traceback (most recent call last)",
      "Cell \u001b[0;32mIn[33], line 1\u001b[0m\n\u001b[0;32m----> 1\u001b[0m \u001b[38;5;28mprint\u001b[39m(\u001b[43mnode3\u001b[49m\u001b[38;5;241m.\u001b[39mdata)\n",
      "\u001b[0;31mNameError\u001b[0m: name 'node3' is not defined"
     ]
    }
   ],
   "source": [
    "print(node3.data)"
   ]
  },
  {
   "cell_type": "markdown",
   "metadata": {},
   "source": [
    "### 선형리스트와 연결 리스트 비교\n",
    "- 선형리스트는 메모리 저장장소의 최적화는 있지만 , 삽입이나 삭제시 처리시간에 대한 오버해드는 존재(꽤많이)\n",
    "- 연결리스트는 메모리상 공간 오버헤드는 존재(current),(node.link등), 삭제/삽입처리시간의 최적화 \n",
    "- 그래서 현대의 IT에서는 거의 선형리스트 사용되지 않음"
   ]
  }
 ],
 "metadata": {
  "kernelspec": {
   "display_name": "Python 3",
   "language": "python",
   "name": "python3"
  },
  "language_info": {
   "codemirror_mode": {
    "name": "ipython",
    "version": 3
   },
   "file_extension": ".py",
   "mimetype": "text/x-python",
   "name": "python",
   "nbconvert_exporter": "python",
   "pygments_lexer": "ipython3",
   "version": "3.12.1"
  }
 },
 "nbformat": 4,
 "nbformat_minor": 2
}
