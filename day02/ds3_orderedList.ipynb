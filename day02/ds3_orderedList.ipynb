{
 "cells": [
  {
   "cell_type": "code",
   "execution_count": null,
   "metadata": {},
   "outputs": [],
   "source": [
    "# file : ds03_orderedList.ipynb\n",
    "# desc : 선형리스트"
   ]
  },
  {
   "cell_type": "markdown",
   "metadata": {},
   "source": [
    "## 자료구조와 알고리즘\n",
    "\n",
    "- 선형리스트\n",
    "\n",
    "### 1. 선형리스트 개념 및 내용\n",
    "- 파이썬의 리스트는 일반적 프로그래밍(C언어 등) 배열과 다름\n",
    "- 파이썬의 성능 문제로 배열과 리스트 리스트 하나로 통합"
   ]
  },
  {
   "cell_type": "code",
   "execution_count": null,
   "metadata": {},
   "outputs": [],
   "source": []
  },
  {
   "cell_type": "code",
   "execution_count": 2,
   "metadata": {},
   "outputs": [],
   "source": [
    "kakaotalk = [200, 150, 90, 30, 15]"
   ]
  },
  {
   "cell_type": "code",
   "execution_count": 3,
   "metadata": {},
   "outputs": [
    {
     "name": "stdout",
     "output_type": "stream",
     "text": [
      "1977861694096\n",
      "1977861692432\n",
      "1977861690512\n",
      "1977861500112\n",
      "1977861499632\n"
     ]
    }
   ],
   "source": [
    "print(id(kakaotalk[0])) # 메모리에 저장된 주소를 10진수 표현\n",
    "print(id(kakaotalk[1]))\n",
    "print(id(kakaotalk[2]))\n",
    "print(id(kakaotalk[3]))\n",
    "print(id(kakaotalk[4]))"
   ]
  },
  {
   "cell_type": "markdown",
   "metadata": {},
   "source": [
    "### 2. 선형리스트 구현\n",
    "- 파이썬에서 실제로 이렇게 복잡하게 할 필요 없다.\n",
    "- 배열(단순 선형리스트) 를 이해하기 위해 만든 예제"
   ]
  },
  {
   "cell_type": "code",
   "execution_count": 20,
   "metadata": {},
   "outputs": [],
   "source": [
    "kakaotalk = [] # 빈 배열 생성\n",
    "\n",
    "def add_data(friend):\n",
    "    kakaotalk.append(None) # 배열 빈자를 생성\n",
    "    size = len(kakaotalk) # 배열 전체 크기\n",
    "    kakaotalk[size - 1] = friend"
   ]
  },
  {
   "cell_type": "code",
   "execution_count": 21,
   "metadata": {},
   "outputs": [],
   "source": [
    "add_data('가현')\n",
    "add_data('나현')\n",
    "add_data('다현')\n",
    "add_data('라현')\n",
    "add_data('마현')"
   ]
  },
  {
   "cell_type": "code",
   "execution_count": 22,
   "metadata": {},
   "outputs": [
    {
     "name": "stdout",
     "output_type": "stream",
     "text": [
      "['가현', '나현', '다현', '라현', '마현']\n"
     ]
    }
   ],
   "source": [
    "print(kakaotalk)"
   ]
  },
  {
   "cell_type": "code",
   "execution_count": 25,
   "metadata": {},
   "outputs": [],
   "source": [
    "kakaotalk.insert(2, 'Solar')"
   ]
  },
  {
   "cell_type": "code",
   "execution_count": 26,
   "metadata": {},
   "outputs": [],
   "source": [
    "# kakaotalk.insert(2, 'Solar') 동일\n",
    "# 데이터 삽입 함수\n",
    "\n",
    "def insert_data(pos, friend):\n",
    "    if pos < 0 or pos > len(kakaotalk):\n",
    "        print('data insert 초과')\n",
    "        return # 함수를 빠져 나감\n",
    "    \n",
    "    # 정상적인 처리 시작\n",
    "    kakaotalk.append(None) # 빈칸 추가\n",
    "    size = len(kakaotalk)\n",
    "    # 삽입위치까지 데이터를 하나씩 뒤로 보냄\n",
    "    for i in range(size-1, pos, -1): #역순으로 맨뒤에서 부터\n",
    "        kakaotalk[i] = kakaotalk[i - 1]\n",
    "        kakaotalk[i - 1] = None\n",
    "\n",
    "    kakaotalk[pos] = friend"
   ]
  },
  {
   "cell_type": "code",
   "execution_count": 27,
   "metadata": {},
   "outputs": [
    {
     "name": "stdout",
     "output_type": "stream",
     "text": [
      "['가현', '나현', 'Solar', 'Solar', '다현', '라현', '마현']\n"
     ]
    }
   ],
   "source": [
    "# insert data ['가현','나현','다현' ...]\n",
    "insert_data(2, 'Solar')\n",
    "print(kakaotalk)"
   ]
  },
  {
   "cell_type": "code",
   "execution_count": 28,
   "metadata": {},
   "outputs": [
    {
     "name": "stdout",
     "output_type": "stream",
     "text": [
      "['가현', '나현', 'Solar', 'Solar', '다현', '라현', 'MoonStar', '마현']\n"
     ]
    }
   ],
   "source": [
    "insert_data(6, 'MoonStar')\n",
    "print(kakaotalk)"
   ]
  },
  {
   "cell_type": "code",
   "execution_count": 17,
   "metadata": {},
   "outputs": [
    {
     "name": "stdout",
     "output_type": "stream",
     "text": [
      "6\n",
      "5\n",
      "4\n",
      "3\n",
      "2\n"
     ]
    }
   ],
   "source": [
    "for i in range(6, 1, -1): # 두번째 쉼표의 수는 출력 안됨\n",
    "    print(i)"
   ]
  },
  {
   "cell_type": "code",
   "execution_count": 18,
   "metadata": {},
   "outputs": [
    {
     "name": "stdout",
     "output_type": "stream",
     "text": [
      "1\n",
      "2\n",
      "3\n",
      "4\n",
      "5\n"
     ]
    }
   ],
   "source": [
    "for i in range(1, 6, 1): # 6은 출력 안됨\n",
    "    print(i)"
   ]
  },
  {
   "cell_type": "code",
   "execution_count": 24,
   "metadata": {},
   "outputs": [],
   "source": [
    "# data delete\n",
    "def delet_data(pos): # 데이터 삭제시 위치값만\n",
    "    if pos < 0 or pos > len(kakaotalk):\n",
    "        print('data 삭제범위 초과')\n",
    "        return\n",
    "    \n",
    "\n",
    "    size = len(kakaotalk)\n",
    "    kakaotalk[pos] = None # data delete\n",
    "\n",
    "    for i in range(pos+1, size):\n",
    "        kakaotalk[i-1] = kakaotalk[i] # 뒤에 값을 앞으로\n",
    "        kakaotalk[i] = None\n",
    "\n",
    "    del(kakaotalk[size-1]) # 배열의 맨 마지막 값 삭제 "
   ]
  },
  {
   "cell_type": "code",
   "execution_count": 30,
   "metadata": {},
   "outputs": [
    {
     "name": "stdout",
     "output_type": "stream",
     "text": [
      "['가현', '나현', 'Solar', '라현', 'MoonStar', '마현']\n"
     ]
    }
   ],
   "source": [
    "## 다현 삭제\n",
    "delet_data(3)\n",
    "print(kakaotalk)"
   ]
  }
 ],
 "metadata": {
  "kernelspec": {
   "display_name": "Python 3",
   "language": "python",
   "name": "python3"
  },
  "language_info": {
   "codemirror_mode": {
    "name": "ipython",
    "version": 3
   },
   "file_extension": ".py",
   "mimetype": "text/x-python",
   "name": "python",
   "nbconvert_exporter": "python",
   "pygments_lexer": "ipython3",
   "version": "3.9.10"
  }
 },
 "nbformat": 4,
 "nbformat_minor": 2
}
