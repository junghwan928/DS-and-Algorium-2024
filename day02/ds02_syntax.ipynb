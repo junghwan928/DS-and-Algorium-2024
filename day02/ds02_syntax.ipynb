{
 "cells": [
  {
   "cell_type": "code",
   "execution_count": null,
   "metadata": {},
   "outputs": [],
   "source": [
    "# file : ds02_syntax.ipynb\n",
    "# desc : 파이썬 기초 복습"
   ]
  },
  {
   "cell_type": "markdown",
   "metadata": {},
   "source": [
    "## 자료구조와 알고리즘\n",
    "\n",
    "- 파이썬 기초 문법 복습\n",
    "\n",
    "### 1. 리스트 컨프리헨션(함축)"
   ]
  },
  {
   "cell_type": "code",
   "execution_count": 2,
   "metadata": {},
   "outputs": [
    {
     "data": {
      "text/plain": [
       "[1, 2, 3, 4, 5]"
      ]
     },
     "execution_count": 2,
     "metadata": {},
     "output_type": "execute_result"
    }
   ],
   "source": [
    "nums = []\n",
    "for i in range(1,6): # 1,2,3,4,5 반복문\n",
    "    nums.append(i)\n",
    "\n",
    "nums "
   ]
  },
  {
   "cell_type": "code",
   "execution_count": 3,
   "metadata": {},
   "outputs": [
    {
     "data": {
      "text/plain": [
       "[1, 2, 3, 4, 5]"
      ]
     },
     "execution_count": 3,
     "metadata": {},
     "output_type": "execute_result"
    }
   ],
   "source": [
    "nums = list(range(1, 6)) # 클래스 생성\n",
    "nums"
   ]
  },
  {
   "cell_type": "code",
   "execution_count": 5,
   "metadata": {},
   "outputs": [
    {
     "data": {
      "text/plain": [
       "[1, 2, 3, 4, 5]"
      ]
     },
     "execution_count": 5,
     "metadata": {},
     "output_type": "execute_result"
    }
   ],
   "source": [
    "nums = [i for i in range(1,6)] # 리스트 함축\n",
    "nums "
   ]
  },
  {
   "cell_type": "code",
   "execution_count": 6,
   "metadata": {},
   "outputs": [
    {
     "data": {
      "text/plain": [
       "[1, 4, 9, 16, 25]"
      ]
     },
     "execution_count": 6,
     "metadata": {},
     "output_type": "execute_result"
    }
   ],
   "source": [
    "nums = [i * i for i in range(1,6)]\n",
    "nums"
   ]
  },
  {
   "cell_type": "code",
   "execution_count": 7,
   "metadata": {},
   "outputs": [
    {
     "data": {
      "text/plain": [
       "[1, 4, 9, 16, 25]"
      ]
     },
     "execution_count": 7,
     "metadata": {},
     "output_type": "execute_result"
    }
   ],
   "source": [
    "nums = []\n",
    "for i in range(1, 6):\n",
    "    nums.append(i * i)\n",
    "\n",
    "nums"
   ]
  },
  {
   "cell_type": "code",
   "execution_count": 8,
   "metadata": {},
   "outputs": [
    {
     "data": {
      "text/plain": [
       "[3, 6, 9, 12, 15, 18]"
      ]
     },
     "execution_count": 8,
     "metadata": {},
     "output_type": "execute_result"
    }
   ],
   "source": [
    "nums = [] # 3의 배수만 출력 \n",
    "nums = [i for i in range(1, 21) if i % 3 == 0]\n",
    "nums"
   ]
  },
  {
   "cell_type": "code",
   "execution_count": 9,
   "metadata": {},
   "outputs": [
    {
     "data": {
      "text/plain": [
       "[[0, 1, 2, 3], [0, 1, 2, 3], [0, 1, 2, 3]]"
      ]
     },
     "execution_count": 9,
     "metadata": {},
     "output_type": "execute_result"
    }
   ],
   "source": [
    "# 2차원 리스트\n",
    "nums2 = [[i for i in range(4)] for j in range(3)] # [[열, 안쪽값] 행]\n",
    "nums2"
   ]
  },
  {
   "cell_type": "markdown",
   "metadata": {},
   "source": [
    "### 세트 "
   ]
  },
  {
   "cell_type": "code",
   "execution_count": 10,
   "metadata": {},
   "outputs": [
    {
     "data": {
      "text/plain": [
       "{1, 2, 3}"
      ]
     },
     "execution_count": 10,
     "metadata": {},
     "output_type": "execute_result"
    }
   ],
   "source": [
    "myset = {1,2,3,3,2,1} # 집합은 같은수는 중복 제거\n",
    "myset"
   ]
  },
  {
   "cell_type": "markdown",
   "metadata": {},
   "source": [
    "### 로또 번호 생성기"
   ]
  },
  {
   "cell_type": "code",
   "execution_count": 16,
   "metadata": {},
   "outputs": [],
   "source": [
    "import random"
   ]
  },
  {
   "cell_type": "code",
   "execution_count": 17,
   "metadata": {},
   "outputs": [],
   "source": [
    "# 전역변수 선언\n",
    "totalLotto = [] # 최종 로또 번호 저장 (2차원)\n",
    "lotto = [] # 한 회 별 로또 번호 저장 (1차원)\n",
    "pickNum = 0\n",
    "count = 0"
   ]
  },
  {
   "cell_type": "code",
   "execution_count": 29,
   "metadata": {},
   "outputs": [
    {
     "name": "stdout",
     "output_type": "stream",
     "text": [
      "Lotto 생성 시작\n",
      "로또번호 생성 완\n"
     ]
    }
   ],
   "source": [
    "print('Lotto 생성 시작')\n",
    "totalLotto = [] # 로또 결과 리스트 초기화\n",
    "count = int(input('뽑을 횟수 입력 >'))\n",
    "\n",
    "for _ in range(count): #_(i위치) 반복되는 숫자를 사용하지 않겠음\n",
    "    lotto = []\n",
    "    while True:\n",
    "        pickNum = random.randint(1,45) # 1 부터 45 사이의 수 저장\n",
    "        if pickNum not in lotto: # 랜덤으로 뽑은 수가 이미 있으면 패스\n",
    "            lotto.append(pickNum)\n",
    "        else:\n",
    "            continue # 반복문이 여려개 있으면 자신이 속한 반복문만 다시 반복\n",
    "\n",
    "        if len(lotto) >= 6: # 숫자를 6개 뽑았으면\n",
    "            break # 반복문이 여러개 있으면 자신이 속한 반복문만 빠져 나감\n",
    "\n",
    "    totalLotto.append(lotto)\n",
    "\n",
    "print('로또번호 생성 완')"
   ]
  },
  {
   "cell_type": "code",
   "execution_count": 31,
   "metadata": {},
   "outputs": [
    {
     "name": "stdout",
     "output_type": "stream",
     "text": [
      "Lotto Numbers > 04 13 14 22 27 30 \n",
      "Lotto Numbers > 03 29 31 39 42 43 \n",
      "Lotto Numbers > 08 10 11 14 26 44 \n",
      "Lotto Numbers > 01 08 11 12 23 28 \n"
     ]
    }
   ],
   "source": [
    "for item in totalLotto:\n",
    "    item.sort()\n",
    "    print('Lotto Numbers >' , end = ' ')\n",
    "    for i in item:\n",
    "        print(f'{i:02d}', end=' ')\n",
    "\n",
    "    print()"
   ]
  },
  {
   "cell_type": "code",
   "execution_count": 25,
   "metadata": {},
   "outputs": [
    {
     "data": {
      "text/plain": [
       "[[26, 23, 41, 43, 45, 30], [24, 15, 26, 33, 42, 1]]"
      ]
     },
     "execution_count": 25,
     "metadata": {},
     "output_type": "execute_result"
    }
   ],
   "source": [
    "totalLotto"
   ]
  }
 ],
 "metadata": {
  "kernelspec": {
   "display_name": "Python 3",
   "language": "python",
   "name": "python3"
  },
  "language_info": {
   "codemirror_mode": {
    "name": "ipython",
    "version": 3
   },
   "file_extension": ".py",
   "mimetype": "text/x-python",
   "name": "python",
   "nbconvert_exporter": "python",
   "pygments_lexer": "ipython3",
   "version": "3.9.10"
  }
 },
 "nbformat": 4,
 "nbformat_minor": 2
}
