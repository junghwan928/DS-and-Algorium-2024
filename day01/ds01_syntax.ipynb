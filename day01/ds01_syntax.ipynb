{
 "cells": [
  {
   "cell_type": "code",
   "execution_count": 1,
   "metadata": {},
   "outputs": [],
   "source": [
    "# file: ds01_syntax.ipynb\n",
    "# desc: 파이썬 기본문법 복습"
   ]
  },
  {
   "cell_type": "markdown",
   "metadata": {},
   "source": [
    "##  자료구조와 알고리즘\n",
    "    - 파이썬 기본문법 복습\n",
    "\n",
    "### 1. 콘솔 출력\n",
    "    - print()"
   ]
  },
  {
   "cell_type": "code",
   "execution_count": 2,
   "metadata": {},
   "outputs": [
    {
     "data": {
      "text/plain": [
       "'3.12.1 (v3.12.1:2305ca5144, Dec  7 2023, 17:23:38) [Clang 13.0.0 (clang-1300.0.29.30)]'"
      ]
     },
     "execution_count": 2,
     "metadata": {},
     "output_type": "execute_result"
    }
   ],
   "source": [
    "import sys\n",
    "sys.version"
   ]
  },
  {
   "cell_type": "code",
   "execution_count": 3,
   "metadata": {},
   "outputs": [],
   "source": [
    "## 코딩 네이밍 룰\n",
    "# 변수 앞 i를 적으면 정수형, f를 적으면 실수형, s 를 적으면 문자열형, is 를 쓰면 Boolean형\n",
    "isBasic = True\n",
    "iMonth = 12\n",
    "fTaxRate = 10.2\n",
    "sMonth = 'December'\n",
    "\n",
    "isBasic, iMonth, sMonth, fTaxRate = False, 1, 'January', 8.8"
   ]
  },
  {
   "cell_type": "code",
   "execution_count": 4,
   "metadata": {},
   "outputs": [
    {
     "name": "stdout",
     "output_type": "stream",
     "text": [
      "Hello, World\n",
      "100\n"
     ]
    }
   ],
   "source": [
    "# 구식 방법\n",
    "# 100 출력 방법 100, '100', '%d' % 100\n",
    "# '%d' 정수의 출력할건데 % 뒤에 있는 값을 정수형 문자열 출력\n",
    "print('Hello, World')\n",
    "print('%d' % 100)\n"
   ]
  },
  {
   "cell_type": "code",
   "execution_count": 5,
   "metadata": {},
   "outputs": [
    {
     "name": "stdout",
     "output_type": "stream",
     "text": [
      "<class 'bool'> <class 'int'> <class 'str'> <class 'float'>\n"
     ]
    }
   ],
   "source": [
    "# 각 변수별 타입 확인\n",
    "# print()\n",
    "print(type(isBasic), type(iMonth), type(sMonth), type(fTaxRate))"
   ]
  },
  {
   "cell_type": "code",
   "execution_count": 6,
   "metadata": {},
   "outputs": [
    {
     "name": "stdout",
     "output_type": "stream",
     "text": [
      "200\n"
     ]
    }
   ],
   "source": [
    "print('%d' % (100 + 100))"
   ]
  },
  {
   "cell_type": "code",
   "execution_count": 12,
   "metadata": {},
   "outputs": [
    {
     "ename": "TypeError",
     "evalue": "not enough arguments for format string",
     "output_type": "error",
     "traceback": [
      "\u001b[0;31m---------------------------------------------------------------------------\u001b[0m",
      "\u001b[0;31mTypeError\u001b[0m                                 Traceback (most recent call last)",
      "Cell \u001b[0;32mIn[12], line 2\u001b[0m\n\u001b[1;32m      1\u001b[0m \u001b[38;5;66;03m# 구식방법, 잘못된 예 %d의 개수와 % 뒤에 값 개수가 일치해야\u001b[39;00m\n\u001b[0;32m----> 2\u001b[0m \u001b[38;5;28mprint\u001b[39m(\u001b[38;5;124;43m'\u001b[39;49m\u001b[38;5;132;43;01m%d\u001b[39;49;00m\u001b[38;5;124;43m | \u001b[39;49m\u001b[38;5;132;43;01m%d\u001b[39;49;00m\u001b[38;5;124;43m. \u001b[39;49m\u001b[38;5;132;43;01m%d\u001b[39;49;00m\u001b[38;5;124;43m'\u001b[39;49m\u001b[43m \u001b[49m\u001b[38;5;241;43m%\u001b[39;49m\u001b[43m \u001b[49m\u001b[43m(\u001b[49m\u001b[38;5;241;43m108\u001b[39;49m\u001b[43m,\u001b[49m\u001b[43m \u001b[49m\u001b[38;5;241;43m209\u001b[39;49m\u001b[43m)\u001b[49m)\n",
      "\u001b[0;31mTypeError\u001b[0m: not enough arguments for format string"
     ]
    }
   ],
   "source": [
    "# 구식방법, 잘못된 예 %d의 개수와 % 뒤에 값 개수가 일치해야\n",
    "print('%d | %d. %d' % (108, 209))"
   ]
  },
  {
   "cell_type": "code",
   "execution_count": 7,
   "metadata": {},
   "outputs": [
    {
     "name": "stdout",
     "output_type": "stream",
     "text": [
      "108 | 209\n"
     ]
    }
   ],
   "source": [
    "# 구식 방법, 잘못 된 예 '%d'의 개수와 % 뒤에 값 개수 일치해야\n",
    "print('%d | %d' % (108, 209))"
   ]
  },
  {
   "cell_type": "code",
   "execution_count": 8,
   "metadata": {},
   "outputs": [
    {
     "name": "stdout",
     "output_type": "stream",
     "text": [
      "1 / January / 8.80 /H / ff / 20\n"
     ]
    }
   ],
   "source": [
    "# %문자열 포멧에 2진수가 없음\n",
    "print('%d / %s / %.2f /%c / %x / %o' % (iMonth, sMonth, fTaxRate, 'H', 255, 16))"
   ]
  },
  {
   "cell_type": "code",
   "execution_count": 14,
   "metadata": {},
   "outputs": [
    {
     "name": "stdout",
     "output_type": "stream",
     "text": [
      "01 / January / 8.80 / H / ff / 71\n"
     ]
    }
   ],
   "source": [
    "# 구식 %문자열 포맷에는 2진수가 없음 (C언어부터 넘어온것)\n",
    "print('%02d / %s / %.2f / %c / %x / %o' % (iMonth, sMonth, fTaxRate, 'H', 255, 57))"
   ]
  },
  {
   "cell_type": "code",
   "execution_count": 13,
   "metadata": {},
   "outputs": [
    {
     "name": "stdout",
     "output_type": "stream",
     "text": [
      "01 / January / 8.80 / h / ff / 71 / 10000\n"
     ]
    }
   ],
   "source": [
    "## 신식방법 포맷스트링 (90년대 경 발전)\n",
    "print('{0:02d} / {1} / {2:.2f} / {3} / {4:x} / {5:o} / {6:b}'.format(iMonth, sMonth, fTaxRate, 'h', 255, 57, 16))"
   ]
  },
  {
   "cell_type": "code",
   "execution_count": 9,
   "metadata": {},
   "outputs": [
    {
     "name": "stdout",
     "output_type": "stream",
     "text": [
      " 1 / January / 8.8 / h / ff / 71 / 10000000000\n"
     ]
    }
   ],
   "source": [
    "## 신식방법 포맷 스트링(90년도 경 발전)\n",
    "print(' {0} / {1} / {2} / {3} / {4:x} / {5:o} / {6:b}'. format(iMonth, sMonth, fTaxRate, 'h', 255, 57, 1024))"
   ]
  },
  {
   "cell_type": "code",
   "execution_count": 10,
   "metadata": {},
   "outputs": [
    {
     "name": "stdout",
     "output_type": "stream",
     "text": [
      "01 / January / 8.80 / H / FF 71 / 1111111111\n"
     ]
    }
   ],
   "source": [
    "## 최신식 방법 포냇 스트링 (python 3.6이후 경 발전)\n",
    "print(f'{iMonth:02d} / {sMonth} / {fTaxRate:.2f} / {\"H\"} / {255:X} {57:o} / {1023:b}')"
   ]
  },
  {
   "cell_type": "markdown",
   "metadata": {},
   "source": [
    "# 2. 입력\n",
    "- input()"
   ]
  },
  {
   "cell_type": "code",
   "execution_count": 15,
   "metadata": {},
   "outputs": [
    {
     "name": "stdout",
     "output_type": "stream",
     "text": [
      "1223\n"
     ]
    }
   ],
   "source": [
    "# 입력은 무조건 문자열(str) x = 12, y = 23\n",
    "x = input() \n",
    "y = input()\n",
    "print(x + y) # 문자열 결합이 됨"
   ]
  },
  {
   "cell_type": "code",
   "execution_count": 16,
   "metadata": {},
   "outputs": [
    {
     "name": "stdout",
     "output_type": "stream",
     "text": [
      "35\n"
     ]
    }
   ],
   "source": [
    "# 입력을 정수를 변경해줘야함 x = 12, y = 23\n",
    "x = int(input())\n",
    "y = int(input())\n",
    "print(x + y)"
   ]
  },
  {
   "cell_type": "code",
   "execution_count": 17,
   "metadata": {},
   "outputs": [
    {
     "name": "stdout",
     "output_type": "stream",
     "text": [
      "276.0\n"
     ]
    }
   ],
   "source": [
    "# 실수는 float()으로 변환 정수 -> 실수 자동 변환 // 실수 -> 정수 수동 변환 x = 12, y = 23\n",
    "x = float(input())\n",
    "y = float(input())\n",
    "print(x * y)"
   ]
  },
  {
   "cell_type": "code",
   "execution_count": 18,
   "metadata": {},
   "outputs": [
    {
     "name": "stdout",
     "output_type": "stream",
     "text": [
      "12.00 * 23.00 = 276.0000\n",
      "12.0 * 23.0 = 276.0\n"
     ]
    }
   ],
   "source": [
    "## input() 만 쓰면 무엇을 할지 모르기때문에 내용 옵션으로 작성\n",
    "x = float(input('1. 실수 입력(ex: 3.14) >'))\n",
    "y = float(input('2. 실수 입력(ex: 3.14) >'))\n",
    "print(f'{x:.2f} * {y:.2f} = {x * y:.4f}')\n",
    "print(f'{x} * {y} = {x * y}')"
   ]
  },
  {
   "cell_type": "code",
   "execution_count": 21,
   "metadata": {},
   "outputs": [
    {
     "name": "stdout",
     "output_type": "stream",
     "text": [
      "12.00 * 33.00 = 396.0000\n"
     ]
    }
   ],
   "source": [
    "\n",
    "x, y = map(float, input('두 실수 입력(구분자 스페이스) >').split())\n",
    "print(f'{x:.2f} * {y:.2f} = {x * y:.4f}')"
   ]
  },
  {
   "cell_type": "markdown",
   "metadata": {},
   "source": [
    "## 3. 연산자\n",
    "- 사칙연산자, 승수, 나머지의 경우 연산자 3개"
   ]
  },
  {
   "cell_type": "code",
   "execution_count": null,
   "metadata": {},
   "outputs": [
    {
     "name": "stdout",
     "output_type": "stream",
     "text": [
      "8\n",
      "5\n",
      "15\n",
      "5.0\n",
      "1\n",
      "2\n",
      "1024\n"
     ]
    }
   ],
   "source": [
    "## 대입연산자 \n",
    "a = 5\n",
    "a += 3\n",
    "print(a)\n",
    "\n",
    "a -= 3\n",
    "print(a)\n",
    "\n",
    "a *= 3\n",
    "print(a)\n",
    "\n",
    "a /= 3\n",
    "print(a)\n",
    "a = int(a) \n",
    "\n",
    "a //= 3\n",
    "print(a)\n",
    "\n",
    "a = 5\n",
    "a %= 3\n",
    "print(a)\n",
    "\n",
    "a **= 10 # 2의 10승\n",
    "print(a)"
   ]
  },
  {
   "cell_type": "code",
   "execution_count": null,
   "metadata": {},
   "outputs": [
    {
     "name": "stdout",
     "output_type": "stream",
     "text": [
      "True False False True True False\n",
      "True\n",
      "True\n"
     ]
    }
   ],
   "source": [
    "## 관계연산자\n",
    "\n",
    "a, b, c, d, = 3, 5, 9, 5\n",
    "print(b == d, b != d, a > b, d < c , b >= d, c <= a)\n",
    "print(a < b and c > d) # 양쪽이 참이면 참, 한쪽 거짓이라면 거짓\n",
    "print(a>b or c>d) # 한쪽이라도 참이면 참 , 둘다 거짓이면 거짓"
   ]
  },
  {
   "cell_type": "markdown",
   "metadata": {},
   "source": [
    "### 4. 형변환(Type Casting)"
   ]
  },
  {
   "cell_type": "code",
   "execution_count": null,
   "metadata": {},
   "outputs": [
    {
     "name": "stdout",
     "output_type": "stream",
     "text": [
      "10\n"
     ]
    },
    {
     "data": {
      "text/plain": [
       "'10'"
      ]
     },
     "execution_count": 73,
     "metadata": {},
     "output_type": "execute_result"
    }
   ],
   "source": [
    "print(str(10)) # 정수 10을 문자열로 변환\n",
    "str(10) # 정수 10 문자열 로 변환"
   ]
  },
  {
   "cell_type": "code",
   "execution_count": null,
   "metadata": {},
   "outputs": [
    {
     "data": {
      "text/plain": [
       "'3.14'"
      ]
     },
     "execution_count": 75,
     "metadata": {},
     "output_type": "execute_result"
    }
   ],
   "source": [
    "str(3.14) # 실수 -> 문자열 로 변환"
   ]
  },
  {
   "cell_type": "code",
   "execution_count": null,
   "metadata": {},
   "outputs": [
    {
     "data": {
      "text/plain": [
       "10"
      ]
     },
     "execution_count": 78,
     "metadata": {},
     "output_type": "execute_result"
    }
   ],
   "source": [
    "int('10') # 문자열을 정수로"
   ]
  },
  {
   "cell_type": "code",
   "execution_count": null,
   "metadata": {},
   "outputs": [
    {
     "data": {
      "text/plain": [
       "3.14"
      ]
     },
     "execution_count": 79,
     "metadata": {},
     "output_type": "execute_result"
    }
   ],
   "source": [
    "float('3.14') # 실수값 문자열 float으로 변환"
   ]
  },
  {
   "cell_type": "code",
   "execution_count": null,
   "metadata": {},
   "outputs": [
    {
     "data": {
      "text/plain": [
       "True"
      ]
     },
     "execution_count": 81,
     "metadata": {},
     "output_type": "execute_result"
    }
   ],
   "source": [
    "bool(1) # 1은 True,  0은(만) False"
   ]
  },
  {
   "cell_type": "code",
   "execution_count": null,
   "metadata": {},
   "outputs": [
    {
     "data": {
      "text/plain": [
       "3"
      ]
     },
     "execution_count": 82,
     "metadata": {},
     "output_type": "execute_result"
    }
   ],
   "source": [
    "int(3.14) # 실수형을 정수형으로 변환가능 . 소수점 별로"
   ]
  },
  {
   "cell_type": "code",
   "execution_count": null,
   "metadata": {},
   "outputs": [
    {
     "data": {
      "text/plain": [
       "3.0"
      ]
     },
     "execution_count": 83,
     "metadata": {},
     "output_type": "execute_result"
    }
   ],
   "source": [
    "float('3')"
   ]
  },
  {
   "cell_type": "code",
   "execution_count": null,
   "metadata": {},
   "outputs": [
    {
     "data": {
      "text/plain": [
       "3.0"
      ]
     },
     "execution_count": 85,
     "metadata": {},
     "output_type": "execute_result"
    }
   ],
   "source": [
    "float(3)"
   ]
  },
  {
   "cell_type": "markdown",
   "metadata": {},
   "source": [
    "5. 흐름제어 \n",
    "    - 조건문"
   ]
  },
  {
   "cell_type": "code",
   "execution_count": 25,
   "metadata": {},
   "outputs": [
    {
     "name": "stdout",
     "output_type": "stream",
     "text": [
      "이깁니다\n"
     ]
    }
   ],
   "source": [
    "# 단순 if문\n",
    "army = 300\n",
    "\n",
    "if army < 300:\n",
    "    print('싸우면 집니다.')\n",
    "else:\n",
    "    print('이깁니다')"
   ]
  },
  {
   "cell_type": "code",
   "execution_count": 24,
   "metadata": {},
   "outputs": [
    {
     "name": "stdout",
     "output_type": "stream",
     "text": [
      "간당간당합니다.\n",
      "Fight\n"
     ]
    }
   ],
   "source": [
    "# elif 문 \n",
    "if (army < 300):\n",
    "    print('Lose.') # block if army < 300: 조건의 안쪽으로 들어간다.\n",
    "    print('Run away')\n",
    "elif army == 300:\n",
    "    print('간당간당합니다.') # block\n",
    "    print('Fight')\n",
    "else:\n",
    "    print('Win.') # block\n",
    "    print('Come on~')\n",
    "\n",
    "\n",
    "# if 문도 중첩if문을 여러번 쓰면 경우의 수 기하급수적으로 증가(경우를 모두 처리)"
   ]
  },
  {
   "cell_type": "code",
   "execution_count": null,
   "metadata": {},
   "outputs": [
    {
     "name": "stdout",
     "output_type": "stream",
     "text": [
      "0,1,2,3,4,"
     ]
    }
   ],
   "source": [
    "## for 문\n",
    "for i in range(5):\n",
    "    print(i, end=',')"
   ]
  },
  {
   "cell_type": "code",
   "execution_count": null,
   "metadata": {},
   "outputs": [
    {
     "name": "stdout",
     "output_type": "stream",
     "text": [
      "1,2,3,4,5,"
     ]
    }
   ],
   "source": [
    "for i in range(1, 5+1):\n",
    "    print(i, end=',')"
   ]
  },
  {
   "cell_type": "code",
   "execution_count": null,
   "metadata": {},
   "outputs": [
    {
     "name": "stdout",
     "output_type": "stream",
     "text": [
      "1,3,5,7,9,"
     ]
    }
   ],
   "source": [
    "for i in range(1, 10+1, 2):\n",
    "    print(i, end=',')"
   ]
  },
  {
   "cell_type": "code",
   "execution_count": 26,
   "metadata": {},
   "outputs": [
    {
     "name": "stdout",
     "output_type": "stream",
     "text": [
      "1, 3, 5, 7, 9, "
     ]
    }
   ],
   "source": [
    "for i in [1,3,5,7,9]:\n",
    "    print(i, end=', ')"
   ]
  },
  {
   "cell_type": "code",
   "execution_count": null,
   "metadata": {},
   "outputs": [
    {
     "name": "stdout",
     "output_type": "stream",
     "text": [
      "0,1,2,3,4,5,6,7,8,9,"
     ]
    }
   ],
   "source": [
    "for i in [0,1,2,3,4,5,6,7,8,9]:\n",
    "    print(i, end=',')"
   ]
  },
  {
   "cell_type": "code",
   "execution_count": 27,
   "metadata": {},
   "outputs": [
    {
     "name": "stdout",
     "output_type": "stream",
     "text": [
      "0, 1, 2, 3, 4, 5, 6, 7, 8, 9, "
     ]
    }
   ],
   "source": [
    "myList = [0,1,2,3,4,5,6,7,8,9]\n",
    "for i in myList:\n",
    "    print(i, end=', ')"
   ]
  },
  {
   "cell_type": "code",
   "execution_count": null,
   "metadata": {},
   "outputs": [
    {
     "name": "stdout",
     "output_type": "stream",
     "text": [
      "ㅎ"
     ]
    }
   ],
   "source": [
    "while True: #무한루프\n",
    "    print('ㅎ', end='')\n",
    "    break\n",
    "   "
   ]
  },
  {
   "cell_type": "markdown",
   "metadata": {},
   "source": [
    "- countiue: 반복문에서 조건이 맞으면, 로직을 실행하지 않고 다음 반복으로 계속 반복\n",
    "- break: 반복문에서 조건이 맞으면 블록을 빠져 나가는 것"
   ]
  },
  {
   "cell_type": "code",
   "execution_count": null,
   "metadata": {},
   "outputs": [
    {
     "name": "stdout",
     "output_type": "stream",
     "text": [
      "for 1번 실행\n",
      "for 2번 실행\n",
      "for 3번 실행\n",
      "for 4번 실행\n",
      "for 5번 실행\n",
      "for 6번 실행\n",
      "for 7번 실행\n",
      "for 8번 실행\n",
      "for 9번 실행\n",
      "for 10번 실행\n"
     ]
    }
   ],
   "source": [
    "for i in range(1, 100+1):\n",
    "    \n",
    "    print(f'for {i}번 실행')\n",
    "    if i == 10: break\n",
    "    "
   ]
  },
  {
   "cell_type": "code",
   "execution_count": 28,
   "metadata": {},
   "outputs": [
    {
     "name": "stdout",
     "output_type": "stream",
     "text": [
      "for문 1번 실행\n",
      "for문 2번 실행\n",
      "for문 4번 실행\n",
      "for문 8번 실행\n",
      "for문 11번 실행\n",
      "for문 13번 실행\n",
      "for문 16번 실행\n",
      "for문 17번 실행\n",
      "for문 19번 실행\n",
      "for문 22번 실행\n",
      "for문 23번 실행\n",
      "for문 26번 실행\n",
      "for문 29번 실행\n",
      "for문 31번 실행\n",
      "for문 32번 실행\n",
      "for문 34번 실행\n",
      "for문 37번 실행\n",
      "for문 38번 실행\n",
      "for문 41번 실행\n",
      "for문 43번 실행\n",
      "for문 44번 실행\n",
      "for문 46번 실행\n",
      "for문 47번 실행\n",
      "for문 52번 실행\n",
      "for문 53번 실행\n",
      "for문 58번 실행\n",
      "for문 59번 실행\n",
      "for문 61번 실행\n",
      "for문 62번 실행\n",
      "for문 64번 실행\n",
      "for문 67번 실행\n",
      "for문 68번 실행\n",
      "for문 71번 실행\n",
      "for문 73번 실행\n",
      "for문 74번 실행\n",
      "for문 76번 실행\n",
      "for문 79번 실행\n",
      "for문 82번 실행\n",
      "for문 83번 실행\n",
      "for문 86번 실행\n",
      "for문 88번 실행\n",
      "for문 89번 실행\n",
      "for문 92번 실행\n",
      "for문 94번 실행\n",
      "for문 97번 실행\n",
      "45\n"
     ]
    }
   ],
   "source": [
    "count = 0\n",
    "for i in range(1, 100+1):\n",
    "    if (i % 3 == 0) or (i % 5 == 0) or (i % 7 == 0) or (i % 9 == 0): continue\n",
    "    print(f'for문 {i}번 실행')\n",
    "    count += 1\n",
    "\n",
    "print(count) # O(logN)"
   ]
  },
  {
   "cell_type": "code",
   "execution_count": null,
   "metadata": {},
   "outputs": [
    {
     "name": "stdout",
     "output_type": "stream",
     "text": [
      "for 1번 실행\n",
      "for 2번 실행\n",
      "for 4번 실행\n",
      "for 8번 실행\n",
      "for 11번 실행\n",
      "for 13번 실행\n",
      "for 16번 실행\n",
      "for 17번 실행\n",
      "for 19번 실행\n",
      "for 22번 실행\n",
      "for 23번 실행\n",
      "for 26번 실행\n",
      "for 29번 실행\n",
      "for 31번 실행\n",
      "for 32번 실행\n",
      "for 34번 실행\n",
      "for 37번 실행\n",
      "for 38번 실행\n",
      "for 41번 실행\n",
      "for 43번 실행\n",
      "for 44번 실행\n",
      "for 46번 실행\n",
      "for 47번 실행\n",
      "for 52번 실행\n",
      "for 53번 실행\n",
      "for 58번 실행\n",
      "for 59번 실행\n",
      "for 61번 실행\n",
      "for 62번 실행\n",
      "for 64번 실행\n",
      "for 67번 실행\n",
      "for 68번 실행\n",
      "for 71번 실행\n",
      "for 73번 실행\n",
      "for 74번 실행\n",
      "for 76번 실행\n",
      "for 79번 실행\n",
      "for 82번 실행\n",
      "for 83번 실행\n",
      "for 86번 실행\n",
      "for 88번 실행\n",
      "for 89번 실행\n",
      "for 92번 실행\n",
      "for 94번 실행\n",
      "for 97번 실행\n"
     ]
    }
   ],
   "source": [
    "for i in range(1, 100+1):\n",
    "    if (i % 3 == 0) or (i % 5 == 0) or (i % 7 == 0) or (i % 9 == 0): continue\n",
    "    print(f'for {i}번 실행')\n",
    "    "
   ]
  },
  {
   "cell_type": "markdown",
   "metadata": {},
   "source": [
    "### 6. 함수\n",
    "- 매개변수를 받아서 동일한 로직을 처리하는 영역"
   ]
  },
  {
   "cell_type": "code",
   "execution_count": null,
   "metadata": {},
   "outputs": [],
   "source": [
    "def plus(v1, v2):\n",
    "    result = 0\n",
    "    result = v1 + v2\n",
    "    return result"
   ]
  },
  {
   "cell_type": "code",
   "execution_count": null,
   "metadata": {},
   "outputs": [
    {
     "name": "stdout",
     "output_type": "stream",
     "text": [
      "200 + 100 합 300\n"
     ]
    }
   ],
   "source": [
    "hap = 0\n",
    "\n",
    "hap = plus(200, 100)\n",
    "print(f'200 + 100 합 {hap}')"
   ]
  },
  {
   "cell_type": "markdown",
   "metadata": {},
   "source": [
    "#### 6 - 1 지역 변수/ 전역변수\n",
    "LOCAL VARIABLE / GLOBAL VARIABLE"
   ]
  },
  {
   "cell_type": "code",
   "execution_count": 29,
   "metadata": {},
   "outputs": [
    {
     "name": "stdout",
     "output_type": "stream",
     "text": [
      "500\n",
      "3.3333333333333335\n",
      "90\n",
      "3.3333333333333335\n"
     ]
    }
   ],
   "source": [
    "gbl_val = 100\n",
    "\n",
    "def func1():\n",
    "    lcl_val = 10 #지역변수\n",
    "    print(gbl_val * 5)\n",
    "    print(lcl_val / 3)\n",
    "\n",
    "def func2():\n",
    "    lcl_val = 10\n",
    "    print(gbl_val - 10)\n",
    "    print(lcl_val / 3) #3.333 예상 but name 'lcl_val' is not defined\n",
    "\n",
    "func1()\n",
    "func2()"
   ]
  },
  {
   "cell_type": "code",
   "execution_count": null,
   "metadata": {},
   "outputs": [
    {
     "name": "stdout",
     "output_type": "stream",
     "text": [
      "30\n",
      "30\n"
     ]
    }
   ],
   "source": [
    "aa = 10 \n",
    "\n",
    "def func3():\n",
    "    # aa = 20 # local \n",
    "    global aa\n",
    "    aa = 30\n",
    "    print(aa)\n",
    "\n",
    "def func4():\n",
    "    print(aa)\n",
    "\n",
    "func3()\n",
    "func4()\n",
    "\n",
    "## local  일경우 20 , 10\n",
    "## global로 선언하면 30, 30"
   ]
  }
 ],
 "metadata": {
  "kernelspec": {
   "display_name": "Python 3",
   "language": "python",
   "name": "python3"
  },
  "language_info": {
   "codemirror_mode": {
    "name": "ipython",
    "version": 3
   },
   "file_extension": ".py",
   "mimetype": "text/x-python",
   "name": "python",
   "nbconvert_exporter": "python",
   "pygments_lexer": "ipython3",
   "version": "3.9.10"
  }
 },
 "nbformat": 4,
 "nbformat_minor": 2
}
