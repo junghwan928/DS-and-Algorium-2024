{
 "cells": [
  {
   "cell_type": "code",
   "execution_count": null,
   "metadata": {},
   "outputs": [],
   "source": [
    "# file: ds01_syntax.ipynb\n",
    "# desc: 파이썬 기본문법 복습"
   ]
  },
  {
   "cell_type": "markdown",
   "metadata": {},
   "source": [
    "##  자료구조와 알고리즘\n",
    "    - 파이썬 기본문법 복습\n",
    "\n",
    "### 1. 콘솔 출력\n",
    "    - print()"
   ]
  },
  {
   "cell_type": "code",
   "execution_count": 51,
   "metadata": {},
   "outputs": [
    {
     "data": {
      "text/plain": [
       "'3.9.10 (tags/v3.9.10:f2f3f53, Jan 17 2022, 15:14:21) [MSC v.1929 64 bit (AMD64)]'"
      ]
     },
     "execution_count": 51,
     "metadata": {},
     "output_type": "execute_result"
    }
   ],
   "source": [
    "import sys\n",
    "sys.version"
   ]
  },
  {
   "cell_type": "code",
   "execution_count": 2,
   "metadata": {},
   "outputs": [],
   "source": [
    "## 코딩 네이밍 룰\n",
    "# 변수 앞 i를 적으면 정수형, f를 적으면 실수형, s 를 적으면 문자열형, is 를 쓰면 Boolean형\n",
    "isBasic = True\n",
    "iMonth = 12\n",
    "fTaxRate = 10.2\n",
    "sMonth = 'December'\n",
    "\n",
    "isBasic, iMonth, sMonth, fTaxRate = False, 1, 'January', 8.8"
   ]
  },
  {
   "cell_type": "code",
   "execution_count": 15,
   "metadata": {},
   "outputs": [
    {
     "name": "stdout",
     "output_type": "stream",
     "text": [
      "Hello, World\n",
      "100\n"
     ]
    }
   ],
   "source": [
    "# 구식 방법\n",
    "# 100 출력 방법 100, '100', '%d' % 100\n",
    "# '%d' 정수의 출력할건데 % 뒤에 있는 값을 정수형 문자열 출력\n",
    "print('Hello, World')\n",
    "print('%d' % 100)\n"
   ]
  },
  {
   "cell_type": "code",
   "execution_count": 16,
   "metadata": {},
   "outputs": [
    {
     "name": "stdout",
     "output_type": "stream",
     "text": [
      "<class 'bool'> <class 'int'> <class 'str'> <class 'float'>\n"
     ]
    }
   ],
   "source": [
    "# 각 변수별 타입 확인\n",
    "# print()\n",
    "print(type(isBasic), type(iMonth), type(sMonth), type(fTaxRate))"
   ]
  },
  {
   "cell_type": "code",
   "execution_count": 17,
   "metadata": {},
   "outputs": [
    {
     "name": "stdout",
     "output_type": "stream",
     "text": [
      "200\n"
     ]
    }
   ],
   "source": [
    "print('%d' % (100 + 100))"
   ]
  },
  {
   "cell_type": "code",
   "execution_count": 21,
   "metadata": {},
   "outputs": [
    {
     "name": "stdout",
     "output_type": "stream",
     "text": [
      "108 | 209\n"
     ]
    }
   ],
   "source": [
    "# 구식 방법, 잘못 된 예 '%d'의 개수와 % 뒤에 값 개수 일치해야\n",
    "print('%d | %d' % (108, 209))"
   ]
  },
  {
   "cell_type": "code",
   "execution_count": 32,
   "metadata": {},
   "outputs": [
    {
     "name": "stdout",
     "output_type": "stream",
     "text": [
      "1 / January / 8.80 /H / ff / 20\n"
     ]
    }
   ],
   "source": [
    "# %문자열 포멧에 2진수가 없음\n",
    "print('%d / %s / %.2f /%c / %x / %o' % (iMonth, sMonth, fTaxRate, 'H', 255, 16))"
   ]
  },
  {
   "cell_type": "code",
   "execution_count": 34,
   "metadata": {},
   "outputs": [
    {
     "name": "stdout",
     "output_type": "stream",
     "text": [
      " 1 / January / 8.8 / h / ff / 71 / 10000000000\n"
     ]
    }
   ],
   "source": [
    "## 신식방법 포맷 스트링(90년도 경 발전)\n",
    "print(' {0} / {1} / {2} / {3} / {4:x} / {5:o} / {6:b}'. format(iMonth, sMonth, fTaxRate, 'h', 255, 57, 1024))"
   ]
  },
  {
   "cell_type": "code",
   "execution_count": 36,
   "metadata": {},
   "outputs": [
    {
     "name": "stdout",
     "output_type": "stream",
     "text": [
      "01 / January / 8.80 / H / FF 71 / 1111111111\n"
     ]
    }
   ],
   "source": [
    "## 최신식 방법 포냇 스트링 (python 3.6이후 경 발전)\n",
    "print(f'{iMonth:02d} / {sMonth} / {fTaxRate:.2f} / {\"H\"} / {255:X} {57:o} / {1023:b}')"
   ]
  },
  {
   "cell_type": "markdown",
   "metadata": {},
   "source": [
    "# 2번 입력\n",
    "- input()"
   ]
  },
  {
   "cell_type": "code",
   "execution_count": 41,
   "metadata": {},
   "outputs": [
    {
     "name": "stdout",
     "output_type": "stream",
     "text": [
      "1223\n"
     ]
    }
   ],
   "source": [
    "# 입력은 무조건 문자열(str) x = 12, y = 23\n",
    "x = input()\n",
    "y = input()\n",
    "print(x + y) # 문자열 결합"
   ]
  },
  {
   "cell_type": "code",
   "execution_count": 42,
   "metadata": {},
   "outputs": [
    {
     "name": "stdout",
     "output_type": "stream",
     "text": [
      "35\n"
     ]
    }
   ],
   "source": [
    "# 입력을 정수를 변경해줘야함 x = 12, y = 23\n",
    "x = int(input())\n",
    "y = int(input())\n",
    "print(x + y)"
   ]
  },
  {
   "cell_type": "code",
   "execution_count": 43,
   "metadata": {},
   "outputs": [
    {
     "name": "stdout",
     "output_type": "stream",
     "text": [
      "276.0\n"
     ]
    }
   ],
   "source": [
    "# 실수는 float()으로 변환 정수 -> 실수 자동 변환 // 실수 -> 정수 수동 변환 x = 12, y = 23\n",
    "x = float(input())\n",
    "y = float(input())\n",
    "print(x * y)"
   ]
  },
  {
   "cell_type": "code",
   "execution_count": 46,
   "metadata": {},
   "outputs": [
    {
     "name": "stdout",
     "output_type": "stream",
     "text": [
      "12.10 * 12.30 = 148.8300\n",
      "12.1 * 12.3 = 148.83\n"
     ]
    }
   ],
   "source": [
    "## input() 만 쓰면 무엇을 할지 모르기때문에 내용 옵션으로 작성\n",
    "x = float(input('1. 실수 입력(ex: 3.14) >'))\n",
    "y = float(input('2. 실수 입력(ex: 3.14) >'))\n",
    "print(f'{x:.2f} * {y:.2f} = {x * y:.4f}')\n",
    "print(f'{x} * {y} = {x * y}')"
   ]
  },
  {
   "cell_type": "code",
   "execution_count": 53,
   "metadata": {},
   "outputs": [
    {
     "name": "stdout",
     "output_type": "stream",
     "text": [
      "12.00 * 12.00 = 144.0000\n"
     ]
    }
   ],
   "source": [
    "\n",
    "x, y = map(float, input('두 실수 입력(구분자 스페이스) >').split())\n",
    "print(f'{x:.2f} * {y:.2f} = {x * y:.4f}')"
   ]
  },
  {
   "cell_type": "markdown",
   "metadata": {},
   "source": [
    "## 3. 연산자\n",
    "- 사칙연산자, 승수, 나머지의 경우, 나머지의 경우 연산자 3개"
   ]
  },
  {
   "cell_type": "code",
   "execution_count": 54,
   "metadata": {},
   "outputs": [
    {
     "name": "stdout",
     "output_type": "stream",
     "text": [
      "8 2 15 1.6666666666666667 1 2 125\n"
     ]
    }
   ],
   "source": [
    "## 산술 연산자\n",
    "a = 5; b = 3 # 여러줄 로직을 한줄에 사용시 ;(semi 콜론) 으로 구분\n",
    "a, b = 5, 3\n",
    "print(a + b, a - b, a * b, a / b, a // b, a % b, a ** b)"
   ]
  },
  {
   "cell_type": "code",
   "execution_count": 66,
   "metadata": {},
   "outputs": [
    {
     "name": "stdout",
     "output_type": "stream",
     "text": [
      "8\n",
      "5\n",
      "15\n",
      "5.0\n",
      "1\n",
      "2\n",
      "1024\n"
     ]
    }
   ],
   "source": [
    "## 대입연산자 \n",
    "a = 5\n",
    "a += 3\n",
    "print(a)\n",
    "\n",
    "a -= 3\n",
    "print(a)\n",
    "\n",
    "a *= 3\n",
    "print(a)\n",
    "\n",
    "a /= 3\n",
    "print(a)\n",
    "a = int(a) \n",
    "\n",
    "a //= 3\n",
    "print(a)\n",
    "\n",
    "a = 5\n",
    "a %= 3\n",
    "print(a)\n",
    "\n",
    "a **= 10 # 2의 10승\n",
    "print(a)"
   ]
  },
  {
   "cell_type": "code",
   "execution_count": 70,
   "metadata": {},
   "outputs": [
    {
     "name": "stdout",
     "output_type": "stream",
     "text": [
      "True False False True True False\n",
      "True\n",
      "True\n"
     ]
    }
   ],
   "source": [
    "## 관계연산자\n",
    "\n",
    "a, b, c, d, = 3, 5, 9, 5\n",
    "print(b == d, b != d, a > b, d < c , b >= d, c <= a)\n",
    "print(a < b and c > d) # 양쪽이 참이면 참, 한쪽 거짓이라면 거짓\n",
    "print(a>b or c>d) # 한쪽이라도 참이면 참 , 둘다 거짓이면 거짓"
   ]
  },
  {
   "cell_type": "markdown",
   "metadata": {},
   "source": [
    "### 4. 형변환(Type Casting)"
   ]
  },
  {
   "cell_type": "code",
   "execution_count": 73,
   "metadata": {},
   "outputs": [
    {
     "name": "stdout",
     "output_type": "stream",
     "text": [
      "10\n"
     ]
    },
    {
     "data": {
      "text/plain": [
       "'10'"
      ]
     },
     "execution_count": 73,
     "metadata": {},
     "output_type": "execute_result"
    }
   ],
   "source": [
    "print(str(10)) # 정수 10을 문자열로 변환\n",
    "str(10) # 정수 10 문자열 로 변환"
   ]
  },
  {
   "cell_type": "code",
   "execution_count": 75,
   "metadata": {},
   "outputs": [
    {
     "data": {
      "text/plain": [
       "'3.14'"
      ]
     },
     "execution_count": 75,
     "metadata": {},
     "output_type": "execute_result"
    }
   ],
   "source": [
    "str(3.14) # 실수 -> 문자열 로 변환"
   ]
  },
  {
   "cell_type": "code",
   "execution_count": 78,
   "metadata": {},
   "outputs": [
    {
     "data": {
      "text/plain": [
       "10"
      ]
     },
     "execution_count": 78,
     "metadata": {},
     "output_type": "execute_result"
    }
   ],
   "source": [
    "int('10') # 문자열을 정수로"
   ]
  },
  {
   "cell_type": "code",
   "execution_count": 79,
   "metadata": {},
   "outputs": [
    {
     "data": {
      "text/plain": [
       "3.14"
      ]
     },
     "execution_count": 79,
     "metadata": {},
     "output_type": "execute_result"
    }
   ],
   "source": [
    "float('3.14') # 실수값 문자열 float으로 변환"
   ]
  },
  {
   "cell_type": "code",
   "execution_count": 81,
   "metadata": {},
   "outputs": [
    {
     "data": {
      "text/plain": [
       "True"
      ]
     },
     "execution_count": 81,
     "metadata": {},
     "output_type": "execute_result"
    }
   ],
   "source": [
    "bool(1) # 1은 True,  0은(만) False"
   ]
  },
  {
   "cell_type": "code",
   "execution_count": 82,
   "metadata": {},
   "outputs": [
    {
     "data": {
      "text/plain": [
       "3"
      ]
     },
     "execution_count": 82,
     "metadata": {},
     "output_type": "execute_result"
    }
   ],
   "source": [
    "int(3.14) # 실수형을 정수형으로 변환가능 . 소수점 별로"
   ]
  },
  {
   "cell_type": "code",
   "execution_count": 83,
   "metadata": {},
   "outputs": [
    {
     "data": {
      "text/plain": [
       "3.0"
      ]
     },
     "execution_count": 83,
     "metadata": {},
     "output_type": "execute_result"
    }
   ],
   "source": [
    "float('3')"
   ]
  },
  {
   "cell_type": "code",
   "execution_count": 85,
   "metadata": {},
   "outputs": [
    {
     "data": {
      "text/plain": [
       "3.0"
      ]
     },
     "execution_count": 85,
     "metadata": {},
     "output_type": "execute_result"
    }
   ],
   "source": [
    "float(3)"
   ]
  },
  {
   "cell_type": "code",
   "execution_count": null,
   "metadata": {},
   "outputs": [],
   "source": []
  },
  {
   "cell_type": "code",
   "execution_count": 86,
   "metadata": {},
   "outputs": [
    {
     "name": "stdout",
     "output_type": "stream",
     "text": [
      "이김\n"
     ]
    }
   ],
   "source": [
    "army = 300\n",
    "\n",
    "if army < 300:\n",
    "    print('싸우면 이주희')\n",
    "else:\n",
    "    print('이김')"
   ]
  },
  {
   "cell_type": "code",
   "execution_count": 90,
   "metadata": {},
   "outputs": [
    {
     "name": "stdout",
     "output_type": "stream",
     "text": [
      "무승부\n",
      "이주희랑 승부봄\n"
     ]
    }
   ],
   "source": [
    " # elif문 \n",
    "if army < 300:\n",
    "    print('싸우면 이주희') \n",
    "    print('런침')\n",
    "elif army == 300:\n",
    "    print('무승부')\n",
    "    print('이주희랑 승부봄')\n",
    "else:\n",
    "    print('win')\n",
    "    print('걍 껌이지')\n",
    "\n",
    "# if 문도 중첩if문을 여러번 쓰면 경우의 수 기하급수적으로 증가(경우를 모두 처리)"
   ]
  },
  {
   "cell_type": "code",
   "execution_count": null,
   "metadata": {},
   "outputs": [],
   "source": [
    " "
   ]
  }
 ],
 "metadata": {
  "kernelspec": {
   "display_name": "Python 3",
   "language": "python",
   "name": "python3"
  },
  "language_info": {
   "codemirror_mode": {
    "name": "ipython",
    "version": 3
   },
   "file_extension": ".py",
   "mimetype": "text/x-python",
   "name": "python",
   "nbconvert_exporter": "python",
   "pygments_lexer": "ipython3",
   "version": "3.9.10"
  }
 },
 "nbformat": 4,
 "nbformat_minor": 2
}
