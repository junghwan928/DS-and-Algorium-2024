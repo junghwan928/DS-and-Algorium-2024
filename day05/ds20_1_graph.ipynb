{
 "cells": [
  {
   "cell_type": "markdown",
   "metadata": {},
   "source": [
    "## 자료구조와 알고리즘\n",
    "\n",
    "- 그래프 구현\n",
    "### 그래프 정점 생성\n",
    "\n",
    "![그래프](https://raw.githubusercontent.com/som7199/ds-and-algorithm-2024/main/images/graph.png)"
   ]
  },
  {
   "cell_type": "code",
   "execution_count": 2,
   "metadata": {},
   "outputs": [],
   "source": [
    "# 그래프 클래스 선언, 인접행렬을 담고 있는 객체\n",
    "class Graph():\n",
    "    SIZE = graph = None # 멤버변수\n",
    "\n",
    "    def __init__(self, size) -> None:\n",
    "        self.SIZE = size\n",
    "        self.graph = [[0 for _ in range(self.SIZE)] for _ in range(self.SIZE)]"
   ]
  },
  {
   "cell_type": "code",
   "execution_count": 3,
   "metadata": {},
   "outputs": [],
   "source": [
    "G1 = Graph(5)"
   ]
  },
  {
   "cell_type": "code",
   "execution_count": 4,
   "metadata": {},
   "outputs": [
    {
     "data": {
      "text/plain": [
       "[[0, 0, 0, 0, 0],\n",
       " [0, 0, 0, 0, 0],\n",
       " [0, 0, 0, 0, 0],\n",
       " [0, 0, 0, 0, 0],\n",
       " [0, 0, 0, 0, 0]]"
      ]
     },
     "execution_count": 4,
     "metadata": {},
     "output_type": "execute_result"
    }
   ],
   "source": [
    "G1.graph"
   ]
  },
  {
   "cell_type": "code",
   "execution_count": 5,
   "metadata": {},
   "outputs": [
    {
     "data": {
      "text/plain": [
       "[[0, 1, 2, 3, 4, 5],\n",
       " [0, 1, 2, 3, 4, 5],\n",
       " [0, 1, 2, 3, 4, 5],\n",
       " [0, 1, 2, 3, 4, 5],\n",
       " [0, 1, 2, 3, 4, 5]]"
      ]
     },
     "execution_count": 5,
     "metadata": {},
     "output_type": "execute_result"
    }
   ],
   "source": [
    "# 바깥쪽 리스트가 행(row), 안쪽 리스트가 열(column)\n",
    "[[i for i in range(6)] for _ in range(5)]"
   ]
  },
  {
   "cell_type": "markdown",
   "metadata": {},
   "source": [
    "1. 그래프 정점 연결"
   ]
  },
  {
   "cell_type": "code",
   "execution_count": 6,
   "metadata": {},
   "outputs": [],
   "source": [
    "G1 = Graph(4)"
   ]
  },
  {
   "cell_type": "code",
   "execution_count": 7,
   "metadata": {},
   "outputs": [],
   "source": [
    "G1.graph[0][1] = 1  # (A, B) 간선\n",
    "G1.graph[0][2] = 1  # (A, C) 간선\n",
    "G1.graph[0][3] = 1  # (A, D) 간선"
   ]
  },
  {
   "cell_type": "code",
   "execution_count": 8,
   "metadata": {},
   "outputs": [
    {
     "data": {
      "text/plain": [
       "[[0, 1, 1, 1], [0, 0, 0, 0], [0, 0, 0, 0], [0, 0, 0, 0]]"
      ]
     },
     "execution_count": 8,
     "metadata": {},
     "output_type": "execute_result"
    }
   ],
   "source": [
    "G1.graph"
   ]
  },
  {
   "cell_type": "code",
   "execution_count": 9,
   "metadata": {},
   "outputs": [
    {
     "name": "stdout",
     "output_type": "stream",
     "text": [
      "Requirement already satisfied: pandas in c:\\dev-roy\\langs\\python311\\lib\\site-packages (2.2.0)\n",
      "Requirement already satisfied: numpy<2,>=1.23.2 in c:\\dev-roy\\langs\\python311\\lib\\site-packages (from pandas) (1.26.3)\n",
      "Requirement already satisfied: python-dateutil>=2.8.2 in c:\\dev-roy\\langs\\python311\\lib\\site-packages (from pandas) (2.8.2)\n",
      "Requirement already satisfied: pytz>=2020.1 in c:\\dev-roy\\langs\\python311\\lib\\site-packages (from pandas) (2024.1)\n",
      "Requirement already satisfied: tzdata>=2022.7 in c:\\dev-roy\\langs\\python311\\lib\\site-packages (from pandas) (2023.4)\n",
      "Requirement already satisfied: six>=1.5 in c:\\dev-roy\\langs\\python311\\lib\\site-packages (from python-dateutil>=2.8.2->pandas) (1.16.0)\n"
     ]
    }
   ],
   "source": [
    "# 데이터 분석용 패키지 설치\n",
    "!pip install pandas"
   ]
  },
  {
   "cell_type": "code",
   "execution_count": 10,
   "metadata": {},
   "outputs": [
    {
     "name": "stderr",
     "output_type": "stream",
     "text": [
      "C:\\Users\\user\\AppData\\Local\\Temp\\ipykernel_11916\\4080736814.py:1: DeprecationWarning: \n",
      "Pyarrow will become a required dependency of pandas in the next major release of pandas (pandas 3.0),\n",
      "(to allow more performant data types, such as the Arrow string type, and better interoperability with other libraries)\n",
      "but was not found to be installed on your system.\n",
      "If this would cause problems for you,\n",
      "please provide us feedback at https://github.com/pandas-dev/pandas/issues/54466\n",
      "        \n",
      "  import pandas as pd\n"
     ]
    }
   ],
   "source": [
    "import pandas as pd"
   ]
  },
  {
   "cell_type": "code",
   "execution_count": 11,
   "metadata": {},
   "outputs": [
    {
     "data": {
      "text/plain": [
       "0    [0, 1, 1, 1]\n",
       "1    [0, 0, 0, 0]\n",
       "2    [0, 0, 0, 0]\n",
       "3    [0, 0, 0, 0]\n",
       "dtype: object"
      ]
     },
     "execution_count": 11,
     "metadata": {},
     "output_type": "execute_result"
    }
   ],
   "source": [
    "pd.Series(G1.graph)"
   ]
  },
  {
   "cell_type": "code",
   "execution_count": 12,
   "metadata": {},
   "outputs": [],
   "source": [
    "G1.graph[1][0] = 1  # (B, A) 간선\n",
    "G1.graph[1][2] = 1  # (B, C) 간선\n",
    "G1.graph[1][3] = 0  # (B, D) 간선 X"
   ]
  },
  {
   "cell_type": "code",
   "execution_count": 13,
   "metadata": {},
   "outputs": [
    {
     "data": {
      "text/plain": [
       "0    [0, 1, 1, 1]\n",
       "1    [1, 0, 1, 0]\n",
       "2    [0, 0, 0, 0]\n",
       "3    [0, 0, 0, 0]\n",
       "dtype: object"
      ]
     },
     "execution_count": 13,
     "metadata": {},
     "output_type": "execute_result"
    }
   ],
   "source": [
    "pd.Series(G1.graph)"
   ]
  },
  {
   "cell_type": "code",
   "execution_count": 14,
   "metadata": {},
   "outputs": [],
   "source": [
    "G1.graph[2][0] = 1 # (C, A) 간선\n",
    "G1.graph[2][1] = 1 # (C, B) 간선\n",
    "G1.graph[2][3] = 1 # (C, D) 간선"
   ]
  },
  {
   "cell_type": "code",
   "execution_count": 15,
   "metadata": {},
   "outputs": [],
   "source": [
    "G1.graph[3][0] = 1 # (D, A) 간선\n",
    "G1.graph[3][2] = 1 # (D, C) 간선"
   ]
  },
  {
   "cell_type": "code",
   "execution_count": 16,
   "metadata": {},
   "outputs": [
    {
     "data": {
      "text/plain": [
       "0    [0, 1, 1, 1]\n",
       "1    [1, 0, 1, 0]\n",
       "2    [1, 1, 0, 1]\n",
       "3    [1, 0, 1, 0]\n",
       "dtype: object"
      ]
     },
     "execution_count": 16,
     "metadata": {},
     "output_type": "execute_result"
    }
   ],
   "source": [
    "pd.Series(G1.graph)"
   ]
  },
  {
   "cell_type": "code",
   "execution_count": 17,
   "metadata": {},
   "outputs": [
    {
     "name": "stdout",
     "output_type": "stream",
     "text": [
      "무방향 그래프\n",
      "0 1 1 1 \n",
      "1 0 1 0 \n",
      "1 1 0 1 \n",
      "1 0 1 0 \n"
     ]
    }
   ],
   "source": [
    "print('무방향 그래프')\n",
    "for row in range(G1.SIZE):\n",
    "    for col in range(G1.SIZE):\n",
    "        print(G1.graph[row][col], end=' ')\n",
    "    print()"
   ]
  },
  {
   "cell_type": "code",
   "execution_count": 18,
   "metadata": {},
   "outputs": [],
   "source": [
    "# G3\n",
    "G3 = Graph(4)"
   ]
  },
  {
   "cell_type": "code",
   "execution_count": 19,
   "metadata": {},
   "outputs": [],
   "source": [
    "G3.graph[0][1] = 1  # <A, B>\n",
    "G3.graph[0][2] = 1  # <A, C>\n",
    "G3.graph[3][0] = 1  # <D, A>\n",
    "G3.graph[3][2] = 1  # <D, C>"
   ]
  },
  {
   "cell_type": "code",
   "execution_count": 20,
   "metadata": {},
   "outputs": [
    {
     "data": {
      "text/plain": [
       "0    [0, 1, 1, 0]\n",
       "1    [0, 0, 0, 0]\n",
       "2    [0, 0, 0, 0]\n",
       "3    [1, 0, 1, 0]\n",
       "dtype: object"
      ]
     },
     "execution_count": 20,
     "metadata": {},
     "output_type": "execute_result"
    }
   ],
   "source": [
    "pd.Series(G3.graph)"
   ]
  },
  {
   "cell_type": "code",
   "execution_count": 21,
   "metadata": {},
   "outputs": [
    {
     "name": "stdout",
     "output_type": "stream",
     "text": [
      "방향 그래프\n",
      "0 1 1 0 \n",
      "0 0 0 0 \n",
      "0 0 0 0 \n",
      "1 0 1 0 \n"
     ]
    }
   ],
   "source": [
    "print('방향 그래프')\n",
    "for row in range(G3.SIZE):\n",
    "    for col in range(G3.SIZE):\n",
    "        print(G3.graph[row][col], end=' ')\n",
    "    print()"
   ]
  },
  {
   "cell_type": "markdown",
   "metadata": {},
   "source": [
    "2. 그래프 개선"
   ]
  },
  {
   "cell_type": "code",
   "execution_count": 22,
   "metadata": {},
   "outputs": [],
   "source": [
    "# 그래프 출력용 함수\n",
    "def printGraph(g):\n",
    "    print('     ', end=' ')\n",
    "    for v in range(g.SIZE):\n",
    "        print(nameArr[v], end=' ')\n",
    "    print()\n",
    "    for row in range(g.SIZE):\n",
    "        print(nameArr[row], end=' ')\n",
    "        for col in range(g.SIZE):\n",
    "            print(f'   {g.graph[row][col]}', end=' ')\n",
    "        print()\n",
    "    print()"
   ]
  },
  {
   "cell_type": "code",
   "execution_count": 23,
   "metadata": {},
   "outputs": [],
   "source": [
    "## 전역변수\n",
    "nameArr = ['문별', '솔라', '휘인', '쯔위', '선미', '화사']"
   ]
  },
  {
   "cell_type": "code",
   "execution_count": 24,
   "metadata": {},
   "outputs": [],
   "source": [
    "문별 = nameArr.index('문별')\n",
    "솔라 = nameArr.index('솔라')\n",
    "휘인 = nameArr.index('휘인')\n",
    "쯔위 = nameArr.index('쯔위')\n",
    "선미 = nameArr.index('선미')\n",
    "화사 = nameArr.index('화사')"
   ]
  },
  {
   "cell_type": "code",
   "execution_count": 25,
   "metadata": {},
   "outputs": [],
   "source": [
    "# 메인코드\n",
    "gSize = len(nameArr)\n",
    "G1 = Graph(gSize)"
   ]
  },
  {
   "cell_type": "code",
   "execution_count": 26,
   "metadata": {},
   "outputs": [],
   "source": [
    "G1.graph[문별][솔라] = 1; G1.graph[솔라][문별] = 1\n",
    "G1.graph[문별][휘인] = 1; G1.graph[휘인][문별] = 1\n",
    "G1.graph[솔라][쯔위] = 1; G1.graph[쯔위][솔라] = 1\n",
    "G1.graph[휘인][쯔위] = 1; G1.graph[쯔위][휘인] = 1\n",
    "G1.graph[쯔위][선미] = 1; G1.graph[선미][쯔위] = 1\n",
    "G1.graph[쯔위][화사] = 1; G1.graph[화사][쯔위] = 1\n",
    "G1.graph[선미][화사] = 1; G1.graph[화사][선미] = 1"
   ]
  },
  {
   "cell_type": "code",
   "execution_count": 27,
   "metadata": {},
   "outputs": [
    {
     "name": "stdout",
     "output_type": "stream",
     "text": [
      "무방향 그래프 G1\n",
      "      문별 솔라 휘인 쯔위 선미 화사 \n",
      "문별    0    1    1    0    0    0 \n",
      "솔라    1    0    0    1    0    0 \n",
      "휘인    1    0    0    1    0    0 \n",
      "쯔위    0    1    1    0    1    1 \n",
      "선미    0    0    0    1    0    1 \n",
      "화사    0    0    0    1    1    0 \n",
      "\n"
     ]
    }
   ],
   "source": [
    "print('무방향 그래프 G1')\n",
    "printGraph(G1)"
   ]
  }
 ],
 "metadata": {
  "kernelspec": {
   "display_name": "Python 3",
   "language": "python",
   "name": "python3"
  },
  "language_info": {
   "codemirror_mode": {
    "name": "ipython",
    "version": 3
   },
   "file_extension": ".py",
   "mimetype": "text/x-python",
   "name": "python",
   "nbconvert_exporter": "python",
   "pygments_lexer": "ipython3",
   "version": "3.11.5"
  }
 },
 "nbformat": 4,
 "nbformat_minor": 2
}
