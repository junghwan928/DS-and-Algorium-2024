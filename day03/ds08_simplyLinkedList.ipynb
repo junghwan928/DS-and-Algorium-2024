{
 "cells": [
  {
   "cell_type": "code",
   "execution_count": null,
   "metadata": {},
   "outputs": [],
   "source": [
    "## file : ds08_simplyLinkedList.ipynb\n",
    "# desc : 연결리스트 학습 다시 "
   ]
  },
  {
   "cell_type": "markdown",
   "metadata": {},
   "source": [
    "## 자료구조/알고리즘\n",
    "\n",
    "- 연결리스트 중 단순 연결리스트 다시 학습\n",
    "\n",
    "## 단순연결 리스트\n",
    "1. Node 클래스 생성\n",
    "    1. 클래스 구조\n",
    "    |data|node|\n",
    "    |----|----|"
   ]
  },
  {
   "cell_type": "code",
   "execution_count": 1,
   "metadata": {},
   "outputs": [],
   "source": [
    "# 노드 클래스\n",
    "class Node():\n",
    "    data = None # 설계 데이터 변수\n",
    "    link = None # Next Node를 지정하는 변수\n",
    "    \n",
    "    def __init__(self) -> None:\n",
    "        self.data = None # 클래스 자신이 self이므로 클래스의 변수에 접근 할려면 반드시 self.\n",
    "        self.link = None "
   ]
  },
  {
   "cell_type": "markdown",
   "metadata": {},
   "source": [
    "2. 변수선언"
   ]
  },
  {
   "cell_type": "code",
   "execution_count": 2,
   "metadata": {},
   "outputs": [],
   "source": [
    "memory = []\n",
    "head = None # 연결리스트 제일 첫 노드를 알려주는 변수\n",
    "prev = None # 현재 처리중인 노드 바로 앞 노드를 지정 변수\n",
    "curr = None # 현재 처리 중인 노드를 지정 변수"
   ]
  },
  {
   "cell_type": "code",
   "execution_count": 3,
   "metadata": {},
   "outputs": [],
   "source": [
    "# 연결 데이터 순서: 가현, 나현, 다현, 라현, 마현\n",
    "# 추가 데이터: 바현, 화사, 솔라, 문별\n",
    "# 삭제 데이터: 가현, 다현"
   ]
  },
  {
   "cell_type": "code",
   "execution_count": 4,
   "metadata": {},
   "outputs": [],
   "source": [
    "node = Node() # Node 객체 생성\n",
    "node.data = '가현'\n",
    "head = node # 변수 node를 변수head에 할당, head는 첫번째 노드를 가현을 가리킨다"
   ]
  },
  {
   "cell_type": "code",
   "execution_count": 5,
   "metadata": {},
   "outputs": [],
   "source": [
    "prev = node # 현재 node 객체를 prev변수 지정, prev가 현재 노드 객체를 가리킨다\n",
    "node = Node() # '가현'은 들고 있는 노드는 이미 head, prev 에다 지정 했기 때문, 나현을 새 노드로 생성\n",
    "node.data = '나현'\n",
    "prev.link = node # '다현' 을 들고 있는 prev(==node 객체와 동일)에 다음 node가 정연인것을 지정(알려줌)"
   ]
  },
  {
   "cell_type": "code",
   "execution_count": 12,
   "metadata": {},
   "outputs": [],
   "source": [
    "prev = node # 현재 node 객체를 prev변수 지정, prev가 현재 노드 객체를 가리킨다\n",
    "node = Node() # '가현'은 들고 있는 노드는 이미 head, prev 에다 지정 했기 때문, 나현을 새 노드로 생성\n",
    "node.data = '다현'\n",
    "prev.link = node # '나현' 을 들고 있는 prev(==node 객체와 동일)에 다음 node가 정연인것을 지정(알려줌)"
   ]
  },
  {
   "cell_type": "code",
   "execution_count": 13,
   "metadata": {},
   "outputs": [],
   "source": [
    "prev = node \n",
    "node = Node() \n",
    "node.data = '라현'\n",
    "prev.link = node "
   ]
  },
  {
   "cell_type": "markdown",
   "metadata": {},
   "source": [
    "3. 연결리스트 출력할 함수"
   ]
  },
  {
   "cell_type": "code",
   "execution_count": 19,
   "metadata": {},
   "outputs": [],
   "source": [
    "def printNodes(start): # start부터 시작해서 끝까지 노드.data 출력\n",
    "    curr = start # start == head\n",
    "    if curr == None: return # break, countinue는 반복문 없으면 안됨\n",
    "    while True:\n",
    "        if curr.link == None: # 연결할 노드 더이상 없으면\n",
    "            print(curr.data) # 자기 데이터만 출력\n",
    "            break # 반복문 출력\n",
    "        else: \n",
    "            print(curr.data, end=' -> ') # 연결할 노드가 있으니까 연결표시 -> 를 해줌\n",
    "            curr = curr.link # 자기 뒤의 데이터 curr로 변경\n",
    "    print()"
   ]
  },
  {
   "cell_type": "code",
   "execution_count": 20,
   "metadata": {},
   "outputs": [
    {
     "name": "stdout",
     "output_type": "stream",
     "text": [
      "가현 -> 나현 -> 다현 -> 라현\n",
      "\n"
     ]
    }
   ],
   "source": [
    "printNodes(head)"
   ]
  }
 ],
 "metadata": {
  "kernelspec": {
   "display_name": "Python 3",
   "language": "python",
   "name": "python3"
  },
  "language_info": {
   "codemirror_mode": {
    "name": "ipython",
    "version": 3
   },
   "file_extension": ".py",
   "mimetype": "text/x-python",
   "name": "python",
   "nbconvert_exporter": "python",
   "pygments_lexer": "ipython3",
   "version": "3.11.5"
  }
 },
 "nbformat": 4,
 "nbformat_minor": 2
}
