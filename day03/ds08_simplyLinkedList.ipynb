{
 "cells": [
  {
   "cell_type": "code",
   "execution_count": null,
   "metadata": {},
   "outputs": [],
   "source": [
    "## file : ds08_simplyLinkedList.ipynb\n",
    "# desc : 연결리스트 학습 다시 "
   ]
  },
  {
   "cell_type": "markdown",
   "metadata": {},
   "source": [
    "## 자료구조/알고리즘\n",
    "\n",
    "- 연결리스트 중 단순 연결리스트 다시 학습\n",
    "\n",
    "## 단순연결 리스트\n",
    "1. Node 클래스 생성\n",
    "    1. 클래스 구조\n",
    "    |data|node|\n",
    "    |----|----|"
   ]
  },
  {
   "cell_type": "code",
   "execution_count": 1,
   "metadata": {},
   "outputs": [],
   "source": [
    "# 노드 클래스\n",
    "class Node():\n",
    "    data = None # 설계 데이터 변수\n",
    "    link = None # Next Node를 지정하는 변수\n",
    "    \n",
    "    def __init__(self) -> None:\n",
    "        self.data = None # 클래스 자신이 self이므로 클래스의 변수에 접근 할려면 반드시 self.\n",
    "        self.link = None "
   ]
  },
  {
   "cell_type": "markdown",
   "metadata": {},
   "source": [
    "2. 변수선언"
   ]
  },
  {
   "cell_type": "code",
   "execution_count": 2,
   "metadata": {},
   "outputs": [],
   "source": [
    "memory = []\n",
    "head = None # 연결리스트 제일 첫 노드를 알려주는 변수\n",
    "prev = None # 현재 처리중인 노드 바로 앞 노드를 지정 변수\n",
    "curr = None # 현재 처리 중인 노드를 지정 변수"
   ]
  },
  {
   "cell_type": "code",
   "execution_count": null,
   "metadata": {},
   "outputs": [],
   "source": []
  }
 ],
 "metadata": {
  "kernelspec": {
   "display_name": "Python 3",
   "language": "python",
   "name": "python3"
  },
  "language_info": {
   "codemirror_mode": {
    "name": "ipython",
    "version": 3
   },
   "file_extension": ".py",
   "mimetype": "text/x-python",
   "name": "python",
   "nbconvert_exporter": "python",
   "pygments_lexer": "ipython3",
   "version": "3.11.5"
  }
 },
 "nbformat": 4,
 "nbformat_minor": 2
}
